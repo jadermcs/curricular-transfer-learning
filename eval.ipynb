{
 "cells": [
  {
   "cell_type": "code",
   "execution_count": null,
   "metadata": {},
   "outputs": [],
   "source": [
    "import torch\n",
    "from pprint import pprint\n",
    "from tqdm import tqdm\n",
    "import numpy as np\n",
    "from transformers import GPT2Tokenizer, GPT2LMHeadModel\n",
    "from datasets import load_dataset\n",
    "from utils.nlp import parse_state\n",
    "from mwzeval.metrics import Evaluator"
   ]
  },
  {
   "cell_type": "code",
   "execution_count": 101,
   "metadata": {},
   "outputs": [
    {
     "name": "stderr",
     "output_type": "stream",
     "text": [
      "Using custom data configuration default-f5722b2d0df6fde5\n"
     ]
    },
    {
     "name": "stdout",
     "output_type": "stream",
     "text": [
      "Downloading and preparing dataset json/default to /home/jader/.cache/huggingface/datasets/json/default-f5722b2d0df6fde5/0.0.0/ac0ca5f5289a6cf108e706efcf040422dbbfa8e658dee6a819f20d76bb84d26b...\n"
     ]
    },
    {
     "data": {
      "application/vnd.jupyter.widget-view+json": {
       "model_id": "974e1ab33fb5478b9412766229e47bb1",
       "version_major": 2,
       "version_minor": 0
      },
      "text/plain": [
       "Downloading data files:   0%|          | 0/3 [00:00<?, ?it/s]"
      ]
     },
     "metadata": {},
     "output_type": "display_data"
    },
    {
     "data": {
      "application/vnd.jupyter.widget-view+json": {
       "model_id": "3851c561ffc5478da338bf373dc1d491",
       "version_major": 2,
       "version_minor": 0
      },
      "text/plain": [
       "Extracting data files:   0%|          | 0/3 [00:00<?, ?it/s]"
      ]
     },
     "metadata": {},
     "output_type": "display_data"
    },
    {
     "name": "stdout",
     "output_type": "stream",
     "text": [
      "Dataset json downloaded and prepared to /home/jader/.cache/huggingface/datasets/json/default-f5722b2d0df6fde5/0.0.0/ac0ca5f5289a6cf108e706efcf040422dbbfa8e658dee6a819f20d76bb84d26b. Subsequent calls will reuse this data.\n"
     ]
    },
    {
     "data": {
      "application/vnd.jupyter.widget-view+json": {
       "model_id": "1501a04fddb2477c9be65264495c9954",
       "version_major": 2,
       "version_minor": 0
      },
      "text/plain": [
       "  0%|          | 0/3 [00:00<?, ?it/s]"
      ]
     },
     "metadata": {},
     "output_type": "display_data"
    }
   ],
   "source": [
    "datasets = load_dataset(\"json\", data_files={\n",
    "        \"train\": \"data/multiwoz/train/encoded.json\",\n",
    "        \"valid\": \"data/multiwoz/dev/encoded.json\",\n",
    "        \"test\": \"data/multiwoz/test/encoded.json\",\n",
    "    })"
   ]
  },
  {
   "cell_type": "code",
   "execution_count": 106,
   "metadata": {},
   "outputs": [],
   "source": [
    "predicted = {}\n",
    "\n",
    "for d in datasets[\"test\"]:\n",
    "    id = d[\"id\"].rstrip(\".json\").lower()\n",
    "    turns = []\n",
    "    for belief in d[\"text\"].split(\"<sos_b>\")[1:]:\n",
    "        bs = parse_state(belief.split(\"<eos_b>\")[0])\n",
    "        response = belief.split(\"<sos_r>\")[1].split(\"<eos_r>\")[0]\n",
    "        state = {\"response\": response, \"state\":{}}\n",
    "        for k,v in bs:\n",
    "            state[\"state\"][k] = v\n",
    "        turns.append(state)\n",
    "    predicted[id] = turns"
   ]
  },
  {
   "cell_type": "code",
   "execution_count": 103,
   "metadata": {},
   "outputs": [],
   "source": [
    "import json\n",
    "with open(\"venv/lib/python3.8/site-packages/mwzeval/data/gold_states.json\") as fin:\n",
    "    data = json.load(fin)"
   ]
  },
  {
   "cell_type": "code",
   "execution_count": 104,
   "metadata": {},
   "outputs": [
    {
     "name": "stdout",
     "output_type": "stream",
     "text": [
      "100% matched\n"
     ]
    }
   ],
   "source": [
    "from mwzeval.utils import normalize_data\n",
    "normalize_data(predicted)\n",
    "counter = 0\n",
    "for key in predicted:\n",
    "    for i, value in enumerate(predicted[key]):\n",
    "        if value[\"state\"] != data[key][i]:\n",
    "            counter += 1\n",
    "            print(key, i)\n",
    "            pprint(value[\"response\"])\n",
    "            pprint(value[\"state\"])\n",
    "            pprint(data[key][i])\n",
    "if not counter:\n",
    "    print(\"100% matched\")"
   ]
  },
  {
   "cell_type": "code",
   "execution_count": 107,
   "metadata": {},
   "outputs": [
    {
     "name": "stdout",
     "output_type": "stream",
     "text": [
      "{'bleu': {'mwz22': 99.15078876656015}, 'success': {'inform': {'restaurant': 95.9, 'total': 93.0, 'train': 95.6, 'hotel': 95.9, 'attraction': 96.0, 'taxi': 100.0}, 'success': {'restaurant': 90.2, 'total': 88.1, 'train': 89.1, 'hotel': 87.6, 'attraction': 90.7, 'taxi': 90.8}}, 'richness': {'entropy': 7.218217822046144, 'cond_entropy': 3.3791865228994378, 'avg_lengths': 14.094411285946826, 'msttr': 0.7501539942252144, 'num_unigrams': 1467, 'num_bigrams': 11614, 'num_trigrams': 25497}, 'dst': None}\n"
     ]
    }
   ],
   "source": [
    "e = Evaluator(bleu=True, success=True, richness=True)\n",
    "results = e.evaluate(predicted)\n",
    "print(results)"
   ]
  },
  {
   "cell_type": "code",
   "execution_count": null,
   "metadata": {},
   "outputs": [],
   "source": [
    "def gen_examples():\n",
    "    pass"
   ]
  },
  {
   "cell_type": "code",
   "execution_count": null,
   "metadata": {},
   "outputs": [],
   "source": [
    "def model_predict(model):\n",
    "    sizencode = 256\n",
    "    predicted = {}\n",
    "    for batch in tqdm(datasets[\"test\"]):\n",
    "        did = batch[\"id\"].lower().rstrip(\".json\")\n",
    "        utterances = batch[\"text\"].split(\"<sos_r>\")\n",
    "        predicted[did] = []\n",
    "        responses = []\n",
    "        for i in range(len(utterances)-1):\n",
    "            example = \"<sos_r>\".join(utterances[:i+1])[-sizencode:]\n",
    "            responses.append(example)\n",
    "        encode = tokenizer(responses, return_tensors=\"pt\", truncation=True,\n",
    "                            padding=True, max_length=sizencode)\n",
    "        encode = {k:v.to(device) for k,v in encode.items()}\n",
    "        generate = model.generate(\n",
    "            **encode,\n",
    "            max_new_tokens=80,\n",
    "            temperature=0.7,\n",
    "            pad_token_id=tokenizer.eos_token_id,\n",
    "            eos_token_id=tokenizer.encode(\"<eos_r>\")[0]\n",
    "        )\n",
    "        state = {}\n",
    "        for gen in generate:\n",
    "            gen = tokenizer.decode(gen)\n",
    "            response = gen.split(\"<sos_r>\")[-1].split(\"<eos_r>\")[0].strip()\n",
    "            for k,v in parse_state(gen.split(\"<sos_b>\")[-1].split(\"<eos_b>\")[0].strip()):\n",
    "                state[k.split(\"_\")[1]] = v\n",
    "            predicted[did].append({\n",
    "                \"response\": response,\n",
    "                \"state\": state,\n",
    "            })\n",
    "    return predicted"
   ]
  },
  {
   "cell_type": "markdown",
   "metadata": {},
   "source": [
    "### With CTL"
   ]
  },
  {
   "cell_type": "code",
   "execution_count": null,
   "metadata": {},
   "outputs": [],
   "source": [
    "device = \"cuda\"\n",
    "tokenizer = GPT2Tokenizer.from_pretrained(\"models/gpt2/ta_encode/multiwoz\",\n",
    "                                            padding_side=\"left\", truncation_side=\"left\")\n",
    "model = GPT2LMHeadModel.from_pretrained(\"models/gpt2/ta_encode/multiwoz\")\n",
    "model.to(device)"
   ]
  },
  {
   "cell_type": "code",
   "execution_count": null,
   "metadata": {},
   "outputs": [],
   "source": [
    "predicted = model_predict(model)\n",
    "e = Evaluator(bleu=True, success=True, richness=True)\n",
    "results = e.evaluate(predicted)\n",
    "print(results)"
   ]
  },
  {
   "cell_type": "markdown",
   "metadata": {},
   "source": [
    "### No CTL"
   ]
  },
  {
   "cell_type": "code",
   "execution_count": null,
   "metadata": {},
   "outputs": [],
   "source": [
    "model = GPT2LMHeadModel.from_pretrained(\"models/gpt2/multiwoz\")\n",
    "model.to(device)"
   ]
  },
  {
   "cell_type": "code",
   "execution_count": null,
   "metadata": {},
   "outputs": [],
   "source": [
    "predicted = model_predict(model)\n",
    "e = Evaluator(bleu=True, success=False, richness=True)\n",
    "results = e.evaluate(predicted)\n",
    "print(results)"
   ]
  }
 ],
 "metadata": {
  "kernelspec": {
   "display_name": "Python 3.8.10 ('venv': venv)",
   "language": "python",
   "name": "python3"
  },
  "language_info": {
   "codemirror_mode": {
    "name": "ipython",
    "version": 3
   },
   "file_extension": ".py",
   "mimetype": "text/x-python",
   "name": "python",
   "nbconvert_exporter": "python",
   "pygments_lexer": "ipython3",
   "version": "3.8.10"
  },
  "orig_nbformat": 4,
  "vscode": {
   "interpreter": {
    "hash": "55e8995096ef5e5be4a17bd29c593120594e26587ffb032e6920ca47a332936d"
   }
  }
 },
 "nbformat": 4,
 "nbformat_minor": 2
}
