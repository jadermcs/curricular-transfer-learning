{
 "cells": [
  {
   "cell_type": "code",
   "execution_count": null,
   "metadata": {},
   "outputs": [],
   "source": [
    "import mlflow\n",
    "import numpy as np\n",
    "import matplotlib\n",
    "import matplotlib.pyplot as plt"
   ]
  },
  {
   "cell_type": "code",
   "execution_count": null,
   "metadata": {},
   "outputs": [],
   "source": [
    "plt.rcParams['text.usetex'] = True\n",
    "plt.rcParams['font.family'] = \"serif\"\n",
    "plt.rcParams['font.size'] = 12\n",
    "plt.rcParams['figure.autolayout'] = True\n",
    "%matplotlib inline"
   ]
  },
  {
   "cell_type": "code",
   "execution_count": null,
   "metadata": {},
   "outputs": [],
   "source": [
    "fig, ax = plt.subplots(figsize=(5, 4), nrows=2)\n",
    "ax[0].set_title(\"Running Loss per Curriculum\")\n",
    "ax[0].set_yscale(\"log\")\n",
    "ax[0].set_yticks([0.7, 1])\n",
    "ax[0].get_yaxis().set_major_formatter(matplotlib.ticker.ScalarFormatter())\n",
    "client = mlflow.tracking.MlflowClient()\n",
    "\n",
    "for run in mlflow.search_runs('0')[:3].run_id:\n",
    "    metrics = client.get_metric_history(run, 'eval_loss')\n",
    "    loss = [x.value for x in metrics]\n",
    "    step = [x.step for x in metrics]\n",
    "    minimal = step[np.argmin(loss)]\n",
    "    name = client.get_run(run).data.params[\"output_dir\"].lstrip(\"models/\")\n",
    "    ax[0].plot(step, loss, label=name)\n",
    "    p = ax[1].plot(step, loss, label=name)\n",
    "    ax[1].axvline(minimal, color=p[0].get_color(), linestyle=\"--\", linewidth=1)\n",
    "    ax[1].set_xlim(3000, 6000)\n",
    "    ax[1].set_ylim(0.62, 0.67)\n",
    "ax[1].set_xlabel(\"Steps\")\n",
    "ax[0].set_ylabel(\"Loss\")\n",
    "ax[1].set_ylabel(\"Loss\")\n",
    "ax[0].legend()\n",
    "fig.savefig(\"loss-medium.pdf\", dpi=300)"
   ]
  },
  {
   "cell_type": "code",
   "execution_count": null,
   "metadata": {},
   "outputs": [],
   "source": [
    "fig, ax = plt.subplots(figsize=(5, 4), nrows=2)\n",
    "ax[0].set_title(\"Running Loss per Curriculum\")\n",
    "ax[0].set_yscale(\"log\")\n",
    "ax[0].set_yticks([0.7, 1, 2, 3])\n",
    "ax[0].get_yaxis().set_major_formatter(matplotlib.ticker.ScalarFormatter())\n",
    "client = mlflow.tracking.MlflowClient()\n",
    "\n",
    "for run in mlflow.search_runs('0')[3:].run_id:\n",
    "    metrics = client.get_metric_history(run, 'eval_loss')\n",
    "    loss = [x.value for x in metrics]\n",
    "    step = [x.step for x in metrics]\n",
    "    minimal = step[np.argmin(loss)]\n",
    "    name = client.get_run(run).data.params[\"output_dir\"].lstrip(\"models/\")\n",
    "    ax[0].plot(step, loss, label=name)\n",
    "    p = ax[1].plot(step, loss, label=name)\n",
    "    ax[1].axvline(minimal, color=p[0].get_color(), linestyle=\"--\", linewidth=1)\n",
    "    ax[1].set_xlim(4000, 13000)\n",
    "    ax[1].set_ylim(0.64, 0.675)\n",
    "ax[1].set_xlabel(\"Steps\")\n",
    "ax[0].set_ylabel(\"Loss\")\n",
    "ax[1].set_ylabel(\"Loss\")\n",
    "ax[0].legend()\n",
    "fig.savefig(\"loss-small.pdf\", dpi=300)"
   ]
  },
  {
   "cell_type": "code",
   "execution_count": null,
   "metadata": {},
   "outputs": [],
   "source": [
    "!pip install ecco"
   ]
  },
  {
   "cell_type": "code",
   "execution_count": 1,
   "metadata": {},
   "outputs": [],
   "source": [
    "import ecco"
   ]
  },
  {
   "cell_type": "code",
   "execution_count": 2,
   "metadata": {},
   "outputs": [],
   "source": [
    "model_config = {\n",
    "    'embedding': \"transformer.wte.weight\",\n",
    "    'type': 'causal',\n",
    "    'activations': ['mlp\\.c_proj'], #This is a regex\n",
    "    'token_prefix': 'Ġ',\n",
    "    'partial_token_prefix': ''\n",
    "}\n",
    "\n",
    "explain = ecco.from_pretrained(\"models/gpt2-medium/ta_encode\", activations=True, model_config=model_config)"
   ]
  },
  {
   "cell_type": "code",
   "execution_count": null,
   "metadata": {
    "scrolled": false
   },
   "outputs": [
    {
     "data": {
      "text/html": [
       "<html lang=\"en\">\n",
       "<script src=\"https://requirejs.org/docs/release/2.3.6/minified/require.js\"></script>\n",
       "<script>\n",
       "    var ecco_url = 'https://storage.googleapis.com/ml-intro/ecco/'\n",
       "    //var ecco_url = 'http://localhost:8000/'\n",
       "\n",
       "    if (window.ecco === undefined) window.ecco = {}\n",
       "\n",
       "    // Setup the paths of the script we'll be using\n",
       "    requirejs.config({\n",
       "        urlArgs: \"bust=\" + (new Date()).getTime(),\n",
       "        nodeRequire: require,\n",
       "        paths: {\n",
       "            d3: \"https://d3js.org/d3.v6.min\", // This is only for use in setup.html and basic.html\n",
       "            \"d3-array\": \"https://d3js.org/d3-array.v2.min\",\n",
       "            jquery: \"https://code.jquery.com/jquery-3.5.1.min\",\n",
       "            ecco: ecco_url + 'js/0.0.6/ecco-bundle.min',\n",
       "            xregexp: 'https://cdnjs.cloudflare.com/ajax/libs/xregexp/3.2.0/xregexp-all.min'\n",
       "        }\n",
       "    });\n",
       "\n",
       "    // Add the css file\n",
       "    //requirejs(['d3'],\n",
       "    //    function (d3) {\n",
       "    //        d3.select('#css').attr('href', ecco_url + 'html/styles.css')\n",
       "    //    })\n",
       "\n",
       "    console.log('Ecco initialize!!')\n",
       "\n",
       "    // returns a 'basic' object. basic.init() selects the html div we'll be\n",
       "    // rendering the html into, adds styles.css to the document.\n",
       "    define('basic', ['d3'],\n",
       "        function (d3) {\n",
       "            return {\n",
       "                init: function (viz_id = null) {\n",
       "                    if (viz_id == null) {\n",
       "                        viz_id = \"viz_\" + Math.round(Math.random() * 10000000)\n",
       "                    }\n",
       "                    // Select the div rendered below, change its id\n",
       "                    const div = d3.select('#basic').attr('id', viz_id),\n",
       "                        div_parent = d3.select('#' + viz_id).node().parentNode\n",
       "\n",
       "                    // Link to CSS file\n",
       "                    d3.select(div_parent).insert('link')\n",
       "                        .attr('rel', 'stylesheet')\n",
       "                        .attr('type', 'text/css')\n",
       "                        .attr('href', ecco_url + 'html/0.0.2/styles.css')\n",
       "\n",
       "                    return viz_id\n",
       "                }\n",
       "            }\n",
       "        }, function (err) {\n",
       "            console.log(err);\n",
       "        }\n",
       "    )\n",
       "</script>\n",
       "\n",
       "<head>\n",
       "    <link id='css' rel=\"stylesheet\" type=\"text/css\">\n",
       "</head>\n",
       "<div id=\"basic\"></div>\n"
      ],
      "text/plain": [
       "<IPython.core.display.HTML object>"
      ]
     },
     "metadata": {},
     "output_type": "display_data"
    },
    {
     "data": {
      "application/javascript": [
       "\n",
       "         requirejs( ['basic', 'ecco'], function(basic, ecco){\n",
       "            basic.init('viz_726706') // Python needs to know the viz id. Used for each output token.\n",
       "            window.ecco['viz_726706'] = new ecco.renderOutputSequence({\n",
       "                    parentDiv: 'viz_726706',\n",
       "                    data: {\"tokens\": [{\"token\": \"<sos_u>\", \"is_partial\": true, \"position\": 0, \"token_id\": 50257, \"type\": \"input\"}, {\"token\": \"we\", \"is_partial\": true, \"position\": 1, \"token_id\": 732, \"type\": \"input\"}, {\"token\": \"are\", \"is_partial\": false, \"position\": 2, \"token_id\": 389, \"type\": \"input\"}, {\"token\": \"a\", \"is_partial\": false, \"position\": 3, \"token_id\": 257, \"type\": \"input\"}, {\"token\": \"family\", \"is_partial\": false, \"position\": 4, \"token_id\": 1641, \"type\": \"input\"}, {\"token\": \"of\", \"is_partial\": false, \"position\": 5, \"token_id\": 286, \"type\": \"input\"}, {\"token\": \"3\", \"is_partial\": false, \"position\": 6, \"token_id\": 513, \"type\": \"input\"}, {\"token\": \"planning\", \"is_partial\": false, \"position\": 7, \"token_id\": 5410, \"type\": \"input\"}, {\"token\": \"staying\", \"is_partial\": false, \"position\": 8, \"token_id\": 10589, \"type\": \"input\"}, {\"token\": \"a\", \"is_partial\": false, \"position\": 9, \"token_id\": 257, \"type\": \"input\"}, {\"token\": \"week\", \"is_partial\": false, \"position\": 10, \"token_id\": 1285, \"type\": \"input\"}, {\"token\": \"in\", \"is_partial\": false, \"position\": 11, \"token_id\": 287, \"type\": \"input\"}, {\"token\": \"r\", \"is_partial\": false, \"position\": 12, \"token_id\": 374, \"type\": \"input\"}, {\"token\": \"io\", \"is_partial\": true, \"position\": 13, \"token_id\": 952, \"type\": \"input\"}, {\"token\": \"de\", \"is_partial\": false, \"position\": 14, \"token_id\": 390, \"type\": \"input\"}, {\"token\": \"j\", \"is_partial\": false, \"position\": 15, \"token_id\": 474, \"type\": \"input\"}, {\"token\": \"ane\", \"is_partial\": true, \"position\": 16, \"token_id\": 1531, \"type\": \"input\"}, {\"token\": \"iro\", \"is_partial\": true, \"position\": 17, \"token_id\": 7058, \"type\": \"input\"}, {\"token\": \".\", \"is_partial\": true, \"position\": 18, \"token_id\": 13, \"type\": \"input\"}, {\"token\": \"any\", \"is_partial\": false, \"position\": 19, \"token_id\": 597, \"type\": \"input\"}, {\"token\": \"suggestions\", \"is_partial\": false, \"position\": 20, \"token_id\": 11776, \"type\": \"input\"}, {\"token\": \"for\", \"is_partial\": false, \"position\": 21, \"token_id\": 329, \"type\": \"input\"}, {\"token\": \"area\", \"is_partial\": false, \"position\": 22, \"token_id\": 1989, \"type\": \"input\"}, {\"token\": \",\", \"is_partial\": false, \"position\": 23, \"token_id\": 837, \"type\": \"input\"}, {\"token\": \"nice\", \"is_partial\": false, \"position\": 24, \"token_id\": 3621, \"type\": \"input\"}, {\"token\": \"restaurant\", \"is_partial\": false, \"position\": 25, \"token_id\": 7072, \"type\": \"input\"}, {\"token\": \"etc\", \"is_partial\": false, \"position\": 26, \"token_id\": 3503, \"type\": \"input\"}, {\"token\": \"?\", \"is_partial\": false, \"position\": 27, \"token_id\": 5633, \"type\": \"input\"}, {\"token\": \"<eos_u>\", \"is_partial\": true, \"position\": 28, \"token_id\": 50258, \"type\": \"input\"}, {\"token\": \"<sos_b>\", \"is_partial\": true, \"position\": 29, \"token_id\": 50259, \"type\": \"input\"}]},\n",
       "                    tokenization_config: {\"token_prefix\": \"\\u0120\", \"partial_token_prefix\": \"\"}\n",
       "            \n",
       "            })\n",
       "         }, function (err) {\n",
       "            console.log(err);\n",
       "        })\n",
       "        "
      ],
      "text/plain": [
       "<IPython.core.display.Javascript object>"
      ]
     },
     "metadata": {},
     "output_type": "display_data"
    },
    {
     "name": "stderr",
     "output_type": "stream",
     "text": [
      "Setting `pad_token_id` to `eos_token_id`:50256 for open-end generation.\n"
     ]
    }
   ],
   "source": [
    "output = explain.generate(\"<sos_u>we are a family of 3 planning staying a week in rio de janeiro. \"\n",
    "                 \"any suggestions for area , nice restaurant etc ?<eos_u><sos_b>\",\n",
    "                generate=1, attribution=['ig'])"
   ]
  },
  {
   "cell_type": "code",
   "execution_count": null,
   "metadata": {},
   "outputs": [],
   "source": [
    "output.primary_attributions(attr_method='ig')"
   ]
  },
  {
   "cell_type": "code",
   "execution_count": null,
   "metadata": {
    "scrolled": false
   },
   "outputs": [],
   "source": [
    "output.primary_attributions(attr_method='ig', style=\"detailed\")"
   ]
  },
  {
   "cell_type": "code",
   "execution_count": null,
   "metadata": {},
   "outputs": [],
   "source": [
    "output.layer_predictions(position=30, layer=11)"
   ]
  },
  {
   "cell_type": "code",
   "execution_count": null,
   "metadata": {},
   "outputs": [],
   "source": []
  }
 ],
 "metadata": {
  "kernelspec": {
   "display_name": "Python 3 (ipykernel)",
   "language": "python",
   "name": "python3"
  },
  "language_info": {
   "codemirror_mode": {
    "name": "ipython",
    "version": 3
   },
   "file_extension": ".py",
   "mimetype": "text/x-python",
   "name": "python",
   "nbconvert_exporter": "python",
   "pygments_lexer": "ipython3",
   "version": "3.8.10"
  },
  "vscode": {
   "interpreter": {
    "hash": "d443db0b2d7070e98e0d2867c7b006d8f03401788aa1751aefd698da472da378"
   }
  }
 },
 "nbformat": 4,
 "nbformat_minor": 2
}
